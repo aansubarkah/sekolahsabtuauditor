{
 "cells": [
  {
   "cell_type": "markdown",
   "metadata": {},
   "source": [
    "# Import Libraries"
   ]
  },
  {
   "cell_type": "code",
   "execution_count": 4,
   "metadata": {},
   "outputs": [],
   "source": [
    "import tabula\n",
    "import pdfplumber\n",
    "import pandas as pd"
   ]
  },
  {
   "cell_type": "code",
   "execution_count": null,
   "metadata": {},
   "outputs": [],
   "source": []
  },
  {
   "cell_type": "code",
   "execution_count": 8,
   "metadata": {},
   "outputs": [
    {
     "name": "stdout",
     "output_type": "stream",
     "text": [
      "NPF (%) 3.13 2.59 2 .35 2 .38 2 .36 2 .36 2 .36 2 .32 2 .28 2 .24 2 .20 2 .10 2.11 2 .05 2 .04 2 .05\n",
      "NPF (%) 3 .01 2 .55 2 .23 2 .17 2 .17 2 .15 2 .09 2 .10 2 .03 2 .03 2 .04 1 .93 2 .03 2 .09 2 .09 2 .27\n"
     ]
    }
   ],
   "source": [
    "with pdfplumber.open('banyak_pdfs\\\\STATISTIK PERBANKAN SYARIAH APRIL 2024.pdf') as pdf:\n",
    "    pages = pdf.pages\n",
    "    for i in range(len(pages)):\n",
    "        #print(i)\n",
    "        page = pdf.pages[i]\n",
    "        #table = page.extract_table()\n",
    "        #df = pd.DataFrame(table)\n",
    "        #print(df)\n",
    "        texts = page.extract_text()\n",
    "\n",
    "        for line in texts.split('\\n'):\n",
    "            if 'NPF (%)' in line:\n",
    "                print(line)"
   ]
  },
  {
   "cell_type": "markdown",
   "metadata": {},
   "source": [
    "# Pola"
   ]
  },
  {
   "cell_type": "markdown",
   "metadata": {},
   "source": [
    "- PDF memiliki banyak halaman\n",
    "- Angka yang di cari diawali/kata \"NPF (%)\"\n",
    "- Di bawah \"Tabel 1a\"\n",
    "- Di atas \"Tabel 1b\"\n",
    "- Pada angka, ada spasi di kiri titik desimal, hapus\n",
    "- Ada 16 angka\n",
    "- 3 angka pertama adalah 3 tahun dari tahun laporan, perlu tahu tahun laporan\n",
    "- 13 angka adalah angka 13 bulan sampai dengan bulan laporan, perlu tahu bulan laporan\n",
    "- Bulan laporan ada di halaman pertama, teks terakhir. Perlu konversi text jadi month. Teks bulan dalam Bahasa Indonesia"
   ]
  },
  {
   "cell_type": "markdown",
   "metadata": {},
   "source": [
    "## Hapus spasi sebelum desimal"
   ]
  },
  {
   "cell_type": "code",
   "execution_count": 9,
   "metadata": {},
   "outputs": [
    {
     "name": "stdout",
     "output_type": "stream",
     "text": [
      "NPF (%) 3.13 2.59 2.35 2.38 2.36 2.36 2.36 2.32 2.28 2.24 2.20 2.10 2.11 2.05 2.04 2.05\n",
      "NPF (%) 3.01 2.55 2.23 2.17 2.17 2.15 2.09 2.10 2.03 2.03 2.04 1.93 2.03 2.09 2.09 2.27\n"
     ]
    }
   ],
   "source": [
    "with pdfplumber.open('banyak_pdfs\\\\STATISTIK PERBANKAN SYARIAH APRIL 2024.pdf') as pdf:\n",
    "    pages = pdf.pages\n",
    "    for i in range(len(pages)):\n",
    "        page = pdf.pages[i]\n",
    "        texts = page.extract_text()\n",
    "\n",
    "        for line in texts.split('\\n'):\n",
    "            if 'NPF (%)' in line:\n",
    "                print(line.replace(' .', '.'))"
   ]
  },
  {
   "cell_type": "markdown",
   "metadata": {},
   "source": [
    "## Ambil hanya NPF pertama"
   ]
  },
  {
   "cell_type": "code",
   "execution_count": 12,
   "metadata": {},
   "outputs": [
    {
     "name": "stdout",
     "output_type": "stream",
     "text": [
      "NPF (%) 3.13 2.59 2.35 2.38 2.36 2.36 2.36 2.32 2.28 2.24 2.20 2.10 2.11 2.05 2.04 2.05\n"
     ]
    }
   ],
   "source": [
    "npf_belum_ketemu = True # [baru]\n",
    "with pdfplumber.open('banyak_pdfs\\\\STATISTIK PERBANKAN SYARIAH APRIL 2024.pdf') as pdf:\n",
    "    pages = pdf.pages\n",
    "    for i in range(len(pages)):\n",
    "        if npf_belum_ketemu: # [baru]\n",
    "            page = pdf.pages[i]\n",
    "            texts = page.extract_text()\n",
    "\n",
    "            for line in texts.split('\\n'):\n",
    "                if 'NPF (%)' in line:\n",
    "                    print(line.replace(' .', '.'))\n",
    "                    npf_belum_ketemu = False # [baru] jika ditemukan teks NPF (%) maka tidak perlu lagi membaca halaman lainnya"
   ]
  },
  {
   "cell_type": "markdown",
   "metadata": {},
   "source": [
    "## Ambil Tahun dan Bulan Laporan"
   ]
  },
  {
   "cell_type": "code",
   "execution_count": 14,
   "metadata": {},
   "outputs": [
    {
     "name": "stdout",
     "output_type": "stream",
     "text": [
      "MEI 2024\n",
      "May2024\n",
      "NPF (%) 3.13 2.59 2.35 2.36 2.36 2.36 2.32 2.28 2.24 2.20 2.10 2.11 2.05 2.04 2.05 2.10\n"
     ]
    }
   ],
   "source": [
    "npf_belum_ketemu = True # [baru]\n",
    "tahun = 0 # [baru]\n",
    "bulan_teks = '' # [baru]\n",
    "bulan_angka = 0 # [baru]\n",
    "with pdfplumber.open('banyak_pdfs\\\\STATISTIK PERBANKAN SYARIAH MEI 2024.pdf') as pdf:\n",
    "    pages = pdf.pages\n",
    "    # [baru] mencari tahun dan bulan di halaman pertama\n",
    "    page = pdf.pages[0]\n",
    "    texts = page.extract_text()\n",
    "    for line in texts.split('\\n'):\n",
    "        if line:\n",
    "            print(line)\n",
    "        \n",
    "    for i in range(len(pages)):\n",
    "        if npf_belum_ketemu: # [baru]\n",
    "            page = pdf.pages[i]\n",
    "            texts = page.extract_text()\n",
    "\n",
    "            for line in texts.split('\\n'):\n",
    "                if 'NPF (%)' in line:\n",
    "                    print(line.replace(' .', '.'))\n",
    "                    npf_belum_ketemu = False # [baru] jika ditemukan teks NPF (%) maka tidak perlu lagi membaca halaman lainnya"
   ]
  },
  {
   "cell_type": "markdown",
   "metadata": {},
   "source": [
    "Ternyata di halaman pertama hanya ada 2 baris teks. Baris terakhir berisi tahun dan bulan (dalam bahasa Inggris) dalam 1 kata. Teks itu yg mau diambil"
   ]
  },
  {
   "cell_type": "code",
   "execution_count": null,
   "metadata": {},
   "outputs": [],
   "source": []
  },
  {
   "cell_type": "code",
   "execution_count": null,
   "metadata": {},
   "outputs": [],
   "source": []
  },
  {
   "cell_type": "code",
   "execution_count": null,
   "metadata": {},
   "outputs": [],
   "source": []
  },
  {
   "cell_type": "code",
   "execution_count": null,
   "metadata": {},
   "outputs": [],
   "source": []
  },
  {
   "cell_type": "code",
   "execution_count": null,
   "metadata": {},
   "outputs": [],
   "source": []
  },
  {
   "cell_type": "code",
   "execution_count": null,
   "metadata": {},
   "outputs": [],
   "source": []
  },
  {
   "cell_type": "markdown",
   "metadata": {},
   "source": [
    "# Kode di bawah ini Gagal"
   ]
  },
  {
   "cell_type": "code",
   "execution_count": 3,
   "metadata": {},
   "outputs": [],
   "source": [
    "#pdf1 = tabula.read_pdf(\"banyak_pdfs\\\\STATISTIK PERBANKAN SYARIAH APRIL 2024.pdf\", pages='all')"
   ]
  },
  {
   "cell_type": "code",
   "execution_count": 6,
   "metadata": {},
   "outputs": [],
   "source": [
    "#!pip install jpype1"
   ]
  }
 ],
 "metadata": {
  "kernelspec": {
   "display_name": "Python 3",
   "language": "python",
   "name": "python3"
  },
  "language_info": {
   "codemirror_mode": {
    "name": "ipython",
    "version": 3
   },
   "file_extension": ".py",
   "mimetype": "text/x-python",
   "name": "python",
   "nbconvert_exporter": "python",
   "pygments_lexer": "ipython3",
   "version": "3.12.2"
  }
 },
 "nbformat": 4,
 "nbformat_minor": 2
}
