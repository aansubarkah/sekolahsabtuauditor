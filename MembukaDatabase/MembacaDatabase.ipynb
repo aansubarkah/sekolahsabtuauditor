{
 "cells": [
  {
   "cell_type": "markdown",
   "metadata": {},
   "source": [
    "# Python Mengambil Data dari Database (Studi Kasus: MsSQL)"
   ]
  },
  {
   "cell_type": "markdown",
   "metadata": {},
   "source": [
    "## Outline"
   ]
  },
  {
   "cell_type": "markdown",
   "metadata": {},
   "source": [
    "- Menginstall Library\n",
    "- Menghubungkan Python (Pandas) ke Database\n",
    "- Melihat DataBase melalui DBeaver"
   ]
  },
  {
   "cell_type": "markdown",
   "metadata": {},
   "source": [
    "## Menginstall Library pydobc"
   ]
  },
  {
   "cell_type": "code",
   "execution_count": 1,
   "metadata": {},
   "outputs": [
    {
     "name": "stdout",
     "output_type": "stream",
     "text": [
      "Requirement already satisfied: pyodbc in c:\\users\\aansubarkah\\anaconda3\\envs\\basangdata12\\lib\\site-packages (5.1.0)\n"
     ]
    },
    {
     "name": "stderr",
     "output_type": "stream",
     "text": [
      "WARNING: Skipping C:\\Users\\aansubarkah\\anaconda3\\envs\\basangdata12\\Lib\\site-packages\\packaging-23.2.dist-info due to invalid metadata entry 'name'\n",
      "WARNING: Skipping C:\\Users\\aansubarkah\\anaconda3\\envs\\basangdata12\\Lib\\site-packages\\packaging-23.2.dist-info due to invalid metadata entry 'name'\n",
      "WARNING: Skipping C:\\Users\\aansubarkah\\anaconda3\\envs\\basangdata12\\Lib\\site-packages\\packaging-23.2.dist-info due to invalid metadata entry 'name'\n",
      "WARNING: Skipping C:\\Users\\aansubarkah\\anaconda3\\envs\\basangdata12\\Lib\\site-packages\\packaging-23.2.dist-info due to invalid metadata entry 'name'\n",
      "WARNING: Skipping C:\\Users\\aansubarkah\\anaconda3\\envs\\basangdata12\\Lib\\site-packages\\packaging-23.2.dist-info due to invalid metadata entry 'name'\n",
      "WARNING: Skipping C:\\Users\\aansubarkah\\anaconda3\\envs\\basangdata12\\Lib\\site-packages\\packaging-23.2.dist-info due to invalid metadata entry 'name'\n",
      "\n",
      "[notice] A new release of pip is available: 24.0 -> 24.1.2\n",
      "[notice] To update, run: python.exe -m pip install --upgrade pip\n"
     ]
    }
   ],
   "source": [
    "!pip install pyodbc"
   ]
  },
  {
   "cell_type": "markdown",
   "metadata": {},
   "source": [
    "## Menghubungkan Python ke Database"
   ]
  },
  {
   "cell_type": "code",
   "execution_count": 1,
   "metadata": {},
   "outputs": [
    {
     "name": "stderr",
     "output_type": "stream",
     "text": [
      "C:\\Users\\aansubarkah\\AppData\\Local\\Temp\\ipykernel_17388\\2676772677.py:2: DeprecationWarning: \n",
      "Pyarrow will become a required dependency of pandas in the next major release of pandas (pandas 3.0),\n",
      "(to allow more performant data types, such as the Arrow string type, and better interoperability with other libraries)\n",
      "but was not found to be installed on your system.\n",
      "If this would cause problems for you,\n",
      "please provide us feedback at https://github.com/pandas-dev/pandas/issues/54466\n",
      "        \n",
      "  import pandas as pd\n"
     ]
    }
   ],
   "source": [
    "import pyodbc\n",
    "import pandas as pd"
   ]
  },
  {
   "cell_type": "code",
   "execution_count": 2,
   "metadata": {},
   "outputs": [],
   "source": [
    "server = '146.190.109.222,1434'\n",
    "database = 'AdventureWorks2019'\n",
    "username = 'auditor'\n",
    "password = 'basangdata'"
   ]
  },
  {
   "cell_type": "code",
   "execution_count": 3,
   "metadata": {},
   "outputs": [],
   "source": [
    "cnxn = pyodbc.connect('DRIVER={SQL Server};SERVER='+server+';DATABASE='+database+';UID='+username+';PWD='+ password)\n",
    "cursor = cnxn.cursor()"
   ]
  },
  {
   "cell_type": "code",
   "execution_count": 4,
   "metadata": {},
   "outputs": [
    {
     "name": "stderr",
     "output_type": "stream",
     "text": [
      "C:\\Users\\aansubarkah\\AppData\\Local\\Temp\\ipykernel_17388\\2968239962.py:2: UserWarning: pandas only supports SQLAlchemy connectable (engine/connection) or database string URI or sqlite3 DBAPI2 connection. Other DBAPI2 objects are not tested. Please consider using SQLAlchemy.\n",
      "  df = pd.read_sql(query, cnxn)\n"
     ]
    }
   ],
   "source": [
    "query = 'SELECT * FROM Sales.Customer;'\n",
    "df = pd.read_sql(query, cnxn)"
   ]
  },
  {
   "cell_type": "code",
   "execution_count": 5,
   "metadata": {},
   "outputs": [
    {
     "data": {
      "text/html": [
       "<div>\n",
       "<style scoped>\n",
       "    .dataframe tbody tr th:only-of-type {\n",
       "        vertical-align: middle;\n",
       "    }\n",
       "\n",
       "    .dataframe tbody tr th {\n",
       "        vertical-align: top;\n",
       "    }\n",
       "\n",
       "    .dataframe thead th {\n",
       "        text-align: right;\n",
       "    }\n",
       "</style>\n",
       "<table border=\"1\" class=\"dataframe\">\n",
       "  <thead>\n",
       "    <tr style=\"text-align: right;\">\n",
       "      <th></th>\n",
       "      <th>CustomerID</th>\n",
       "      <th>PersonID</th>\n",
       "      <th>StoreID</th>\n",
       "      <th>TerritoryID</th>\n",
       "      <th>AccountNumber</th>\n",
       "      <th>rowguid</th>\n",
       "      <th>ModifiedDate</th>\n",
       "    </tr>\n",
       "  </thead>\n",
       "  <tbody>\n",
       "    <tr>\n",
       "      <th>0</th>\n",
       "      <td>1</td>\n",
       "      <td>NaN</td>\n",
       "      <td>934.0</td>\n",
       "      <td>1</td>\n",
       "      <td>AW00000001</td>\n",
       "      <td>3F5AE95E-B87D-4AED-95B4-C3797AFCB74F</td>\n",
       "      <td>2014-09-12 11:15:07.263</td>\n",
       "    </tr>\n",
       "    <tr>\n",
       "      <th>1</th>\n",
       "      <td>2</td>\n",
       "      <td>NaN</td>\n",
       "      <td>1028.0</td>\n",
       "      <td>1</td>\n",
       "      <td>AW00000002</td>\n",
       "      <td>E552F657-A9AF-4A7D-A645-C429D6E02491</td>\n",
       "      <td>2014-09-12 11:15:07.263</td>\n",
       "    </tr>\n",
       "    <tr>\n",
       "      <th>2</th>\n",
       "      <td>3</td>\n",
       "      <td>NaN</td>\n",
       "      <td>642.0</td>\n",
       "      <td>4</td>\n",
       "      <td>AW00000003</td>\n",
       "      <td>130774B1-DB21-4EF3-98C8-C104BCD6ED6D</td>\n",
       "      <td>2014-09-12 11:15:07.263</td>\n",
       "    </tr>\n",
       "    <tr>\n",
       "      <th>3</th>\n",
       "      <td>4</td>\n",
       "      <td>NaN</td>\n",
       "      <td>932.0</td>\n",
       "      <td>4</td>\n",
       "      <td>AW00000004</td>\n",
       "      <td>FF862851-1DAA-4044-BE7C-3E85583C054D</td>\n",
       "      <td>2014-09-12 11:15:07.263</td>\n",
       "    </tr>\n",
       "    <tr>\n",
       "      <th>4</th>\n",
       "      <td>5</td>\n",
       "      <td>NaN</td>\n",
       "      <td>1026.0</td>\n",
       "      <td>4</td>\n",
       "      <td>AW00000005</td>\n",
       "      <td>83905BDC-6F5E-4F71-B162-C98DA069F38A</td>\n",
       "      <td>2014-09-12 11:15:07.263</td>\n",
       "    </tr>\n",
       "    <tr>\n",
       "      <th>...</th>\n",
       "      <td>...</td>\n",
       "      <td>...</td>\n",
       "      <td>...</td>\n",
       "      <td>...</td>\n",
       "      <td>...</td>\n",
       "      <td>...</td>\n",
       "      <td>...</td>\n",
       "    </tr>\n",
       "    <tr>\n",
       "      <th>19815</th>\n",
       "      <td>30114</td>\n",
       "      <td>1985.0</td>\n",
       "      <td>1986.0</td>\n",
       "      <td>7</td>\n",
       "      <td>AW00030114</td>\n",
       "      <td>97154F3D-28F1-4B15-AE03-9518B781ECE3</td>\n",
       "      <td>2014-09-12 11:15:07.263</td>\n",
       "    </tr>\n",
       "    <tr>\n",
       "      <th>19816</th>\n",
       "      <td>30115</td>\n",
       "      <td>1987.0</td>\n",
       "      <td>1988.0</td>\n",
       "      <td>6</td>\n",
       "      <td>AW00030115</td>\n",
       "      <td>E4CF8FD5-30A4-4B8E-8FD8-47032E255778</td>\n",
       "      <td>2014-09-12 11:15:07.263</td>\n",
       "    </tr>\n",
       "    <tr>\n",
       "      <th>19817</th>\n",
       "      <td>30116</td>\n",
       "      <td>1989.0</td>\n",
       "      <td>1990.0</td>\n",
       "      <td>4</td>\n",
       "      <td>AW00030116</td>\n",
       "      <td>EC409609-D25D-41B8-9D15-A1AA6E89FC77</td>\n",
       "      <td>2014-09-12 11:15:07.263</td>\n",
       "    </tr>\n",
       "    <tr>\n",
       "      <th>19818</th>\n",
       "      <td>30117</td>\n",
       "      <td>1991.0</td>\n",
       "      <td>1992.0</td>\n",
       "      <td>4</td>\n",
       "      <td>AW00030117</td>\n",
       "      <td>6F08E2FB-1CD3-4F6E-A2E6-385669598B19</td>\n",
       "      <td>2014-09-12 11:15:07.263</td>\n",
       "    </tr>\n",
       "    <tr>\n",
       "      <th>19819</th>\n",
       "      <td>30118</td>\n",
       "      <td>1993.0</td>\n",
       "      <td>1994.0</td>\n",
       "      <td>3</td>\n",
       "      <td>AW00030118</td>\n",
       "      <td>2495B4EB-FE8B-459E-A1B6-DBA25C04E626</td>\n",
       "      <td>2014-09-12 11:15:07.263</td>\n",
       "    </tr>\n",
       "  </tbody>\n",
       "</table>\n",
       "<p>19820 rows × 7 columns</p>\n",
       "</div>"
      ],
      "text/plain": [
       "       CustomerID  PersonID  StoreID  TerritoryID AccountNumber  \\\n",
       "0               1       NaN    934.0            1    AW00000001   \n",
       "1               2       NaN   1028.0            1    AW00000002   \n",
       "2               3       NaN    642.0            4    AW00000003   \n",
       "3               4       NaN    932.0            4    AW00000004   \n",
       "4               5       NaN   1026.0            4    AW00000005   \n",
       "...           ...       ...      ...          ...           ...   \n",
       "19815       30114    1985.0   1986.0            7    AW00030114   \n",
       "19816       30115    1987.0   1988.0            6    AW00030115   \n",
       "19817       30116    1989.0   1990.0            4    AW00030116   \n",
       "19818       30117    1991.0   1992.0            4    AW00030117   \n",
       "19819       30118    1993.0   1994.0            3    AW00030118   \n",
       "\n",
       "                                    rowguid            ModifiedDate  \n",
       "0      3F5AE95E-B87D-4AED-95B4-C3797AFCB74F 2014-09-12 11:15:07.263  \n",
       "1      E552F657-A9AF-4A7D-A645-C429D6E02491 2014-09-12 11:15:07.263  \n",
       "2      130774B1-DB21-4EF3-98C8-C104BCD6ED6D 2014-09-12 11:15:07.263  \n",
       "3      FF862851-1DAA-4044-BE7C-3E85583C054D 2014-09-12 11:15:07.263  \n",
       "4      83905BDC-6F5E-4F71-B162-C98DA069F38A 2014-09-12 11:15:07.263  \n",
       "...                                     ...                     ...  \n",
       "19815  97154F3D-28F1-4B15-AE03-9518B781ECE3 2014-09-12 11:15:07.263  \n",
       "19816  E4CF8FD5-30A4-4B8E-8FD8-47032E255778 2014-09-12 11:15:07.263  \n",
       "19817  EC409609-D25D-41B8-9D15-A1AA6E89FC77 2014-09-12 11:15:07.263  \n",
       "19818  6F08E2FB-1CD3-4F6E-A2E6-385669598B19 2014-09-12 11:15:07.263  \n",
       "19819  2495B4EB-FE8B-459E-A1B6-DBA25C04E626 2014-09-12 11:15:07.263  \n",
       "\n",
       "[19820 rows x 7 columns]"
      ]
     },
     "execution_count": 5,
     "metadata": {},
     "output_type": "execute_result"
    }
   ],
   "source": [
    "df"
   ]
  },
  {
   "cell_type": "markdown",
   "metadata": {},
   "source": [
    "## Melihat Database melalui DBeaver"
   ]
  },
  {
   "cell_type": "markdown",
   "metadata": {},
   "source": [
    "Sampai saat ini timbul banyak pertanyaan. Database AdventureWorks2019 punya tabel apa saja? Bukankah lebih mudah jika ada alat untuk menampilkan database, melihat-lihat apa yang ada di dalamnya?\n",
    "\n",
    "Betul.\n",
    "\n",
    "[DBeaver](https://dbeaver.io/download/) jawabannya.\n",
    "\n",
    "Aplikasi ini bisa menampilkan tabel apa saja yang ada dalam database.\n",
    "\n",
    "Bonusnya, DBeaver bisa membuka macam-macam jenis database. MsSQL, PostgreSQL, MySQL, Oracle, SQLite, dll. Jadi cukup satu aplikasi untuk berbagai macam jenis database."
   ]
  },
  {
   "cell_type": "markdown",
   "metadata": {},
   "source": [
    "![DBeaver](Screenshot_1587.png)"
   ]
  },
  {
   "cell_type": "markdown",
   "metadata": {},
   "source": [
    "## Tabel Target"
   ]
  },
  {
   "cell_type": "markdown",
   "metadata": {},
   "source": [
    "- Customer\n",
    "- SalesOrderHeader\n",
    "- SalesPerson\n",
    "- Store"
   ]
  },
  {
   "cell_type": "markdown",
   "metadata": {},
   "source": [
    "Agar lebih menantang:\n",
    "- SalesPerson dalam bentuk file Excel\n",
    "- Store dalam PDF"
   ]
  },
  {
   "cell_type": "code",
   "execution_count": null,
   "metadata": {},
   "outputs": [],
   "source": []
  },
  {
   "cell_type": "code",
   "execution_count": null,
   "metadata": {},
   "outputs": [],
   "source": []
  },
  {
   "cell_type": "code",
   "execution_count": null,
   "metadata": {},
   "outputs": [],
   "source": []
  },
  {
   "cell_type": "code",
   "execution_count": null,
   "metadata": {},
   "outputs": [],
   "source": []
  },
  {
   "cell_type": "code",
   "execution_count": null,
   "metadata": {},
   "outputs": [],
   "source": []
  }
 ],
 "metadata": {
  "kernelspec": {
   "display_name": "basangdata12",
   "language": "python",
   "name": "python3"
  },
  "language_info": {
   "codemirror_mode": {
    "name": "ipython",
    "version": 3
   },
   "file_extension": ".py",
   "mimetype": "text/x-python",
   "name": "python",
   "nbconvert_exporter": "python",
   "pygments_lexer": "ipython3",
   "version": "3.12.2"
  }
 },
 "nbformat": 4,
 "nbformat_minor": 2
}
