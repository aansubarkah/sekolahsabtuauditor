{
 "cells": [
  {
   "cell_type": "code",
   "execution_count": 1,
   "metadata": {},
   "outputs": [
    {
     "name": "stdout",
     "output_type": "stream",
     "text": [
      "Koneksi berhasil!\n",
      "SQL Server Version: Microsoft SQL Server 2019 (RTM) - 15.0.2000.5 (X64) \n",
      "\tSep 24 2019 13:48:23 \n",
      "\tCopyright (C) 2019 Microsoft Corporation\n",
      "\tExpress Edition (64-bit) on Windows 10 Pro 10.0 <X64> (Build 19045: ) (Hypervisor)\n",
      "\n"
     ]
    }
   ],
   "source": [
    "import pyodbc\n",
    "\n",
    "# Definisikan informasi koneksi\n",
    "server = '146.190.109.222,1434'       # Ganti dengan nama server Anda\n",
    "database = 'AdventureWorks2019'   # Ganti dengan nama database Anda\n",
    "username = 'auditor'   # Ganti dengan nama pengguna Anda\n",
    "password = 'basangdata'      # Ganti dengan kata sandi Anda\n",
    "\n",
    "# Buat string koneksi\n",
    "connection_string = (\n",
    "    f'DRIVER={{ODBC Driver 17 for SQL Server}};'\n",
    "    f'SERVER={server};'\n",
    "    f'DATABASE={database};'\n",
    "    f'UID={username};'\n",
    "    f'PWD={password};'\n",
    ")\n",
    "\n",
    "# Buat koneksi\n",
    "try:\n",
    "    connection = pyodbc.connect(connection_string)\n",
    "    print(\"Koneksi berhasil!\")\n",
    "    \n",
    "    # Buat cursor\n",
    "    cursor = connection.cursor()\n",
    "    \n",
    "    # Contoh query\n",
    "    cursor.execute(\"SELECT @@version;\")\n",
    "    row = cursor.fetchone()\n",
    "    print(f\"SQL Server Version: {row[0]}\")\n",
    "    \n",
    "    # Tutup cursor dan koneksi\n",
    "    cursor.close()\n",
    "    connection.close()\n",
    "\n",
    "except Exception as e:\n",
    "    print(f\"Terjadi kesalahan: {e}\")"
   ]
  },
  {
   "cell_type": "code",
   "execution_count": 2,
   "metadata": {},
   "outputs": [
    {
     "name": "stderr",
     "output_type": "stream",
     "text": [
      "C:\\Users\\aansubarkah\\AppData\\Local\\Temp\\ipykernel_27712\\397583101.py:1: DeprecationWarning: \n",
      "Pyarrow will become a required dependency of pandas in the next major release of pandas (pandas 3.0),\n",
      "(to allow more performant data types, such as the Arrow string type, and better interoperability with other libraries)\n",
      "but was not found to be installed on your system.\n",
      "If this would cause problems for you,\n",
      "please provide us feedback at https://github.com/pandas-dev/pandas/issues/54466\n",
      "        \n",
      "  import pandas as pd\n",
      "C:\\Users\\aansubarkah\\AppData\\Local\\Temp\\ipykernel_27712\\397583101.py:28: UserWarning: pandas only supports SQLAlchemy connectable (engine/connection) or database string URI or sqlite3 DBAPI2 connection. Other DBAPI2 objects are not tested. Please consider using SQLAlchemy.\n",
      "  df = pd.read_sql(query, connection)\n"
     ]
    },
    {
     "name": "stdout",
     "output_type": "stream",
     "text": [
      "   SalesOrderID  RevisionNumber  OrderDate    DueDate   ShipDate  Status  \\\n",
      "0         43659               8 2011-05-31 2011-06-12 2011-06-07       5   \n",
      "1         43660               8 2011-05-31 2011-06-12 2011-06-07       5   \n",
      "2         43661               8 2011-05-31 2011-06-12 2011-06-07       5   \n",
      "3         43662               8 2011-05-31 2011-06-12 2011-06-07       5   \n",
      "4         43663               8 2011-05-31 2011-06-12 2011-06-07       5   \n",
      "\n",
      "   OnlineOrderFlag SalesOrderNumber PurchaseOrderNumber   AccountNumber  ...  \\\n",
      "0            False          SO43659         PO522145787  10-4020-000676  ...   \n",
      "1            False          SO43660       PO18850127500  10-4020-000117  ...   \n",
      "2            False          SO43661       PO18473189620  10-4020-000442  ...   \n",
      "3            False          SO43662       PO18444174044  10-4020-000227  ...   \n",
      "4            False          SO43663       PO18009186470  10-4020-000510  ...   \n",
      "\n",
      "   CreditCardID  CreditCardApprovalCode  CurrencyRateID    SubTotal  \\\n",
      "0       16281.0           105041Vi84182             NaN  20565.6206   \n",
      "1        5618.0           115213Vi29411             NaN   1294.2529   \n",
      "2        1346.0             85274Vi6854             4.0  32726.4786   \n",
      "3       10456.0           125295Vi53935             4.0  28832.5289   \n",
      "4        4322.0            45303Vi22691             NaN    419.4589   \n",
      "\n",
      "      TaxAmt   Freight    TotalDue Comment  \\\n",
      "0  1971.5149  616.0984  23153.2339    None   \n",
      "1   124.2483   38.8276   1457.3288    None   \n",
      "2  3153.7696  985.5530  36865.8012    None   \n",
      "3  2775.1646  867.2389  32474.9324    None   \n",
      "4    40.2681   12.5838    472.3108    None   \n",
      "\n",
      "                                rowguid  ModifiedDate  \n",
      "0  79B65321-39CA-4115-9CBA-8FE0903E12E6    2011-06-07  \n",
      "1  738DC42D-D03B-48A1-9822-F95A67EA7389    2011-06-07  \n",
      "2  D91B9131-18A4-4A11-BC3A-90B6F53E9D74    2011-06-07  \n",
      "3  4A1ECFC0-CC3A-4740-B028-1C50BB48711C    2011-06-07  \n",
      "4  9B1E7A40-6AE0-4AD3-811C-A64951857C4B    2011-06-07  \n",
      "\n",
      "[5 rows x 26 columns]\n"
     ]
    }
   ],
   "source": [
    "import pandas as pd\n",
    "import pyodbc\n",
    "\n",
    "# Definisikan informasi koneksi\n",
    "server = '146.190.109.222,1434'       # Ganti dengan nama server Anda\n",
    "database = 'AdventureWorks2019'   # Ganti dengan nama database Anda\n",
    "username = 'auditor'   # Ganti dengan nama pengguna Anda\n",
    "password = 'basangdata'      # Ganti dengan kata sandi Anda\n",
    "\n",
    "# Buat string koneksi\n",
    "connection_string = (\n",
    "    f'DRIVER={{ODBC Driver 17 for SQL Server}};'\n",
    "    f'SERVER={server};'\n",
    "    f'DATABASE={database};'\n",
    "    f'UID={username};'\n",
    "    f'PWD={password};'\n",
    ")\n",
    "\n",
    "# Buat koneksi\n",
    "try:\n",
    "    # Koneksi ke database\n",
    "    connection = pyodbc.connect(connection_string)\n",
    "    \n",
    "    # Buat query\n",
    "    query = \"SELECT * FROM Sales.SalesOrderHeader\"  # Ganti dengan nama tabel atau query yang sesuai\n",
    "    \n",
    "    # Ambil data ke dalam DataFrame\n",
    "    df = pd.read_sql(query, connection)\n",
    "    \n",
    "    # Tampilkan DataFrame\n",
    "    print(df.head())  # Menampilkan 5 baris pertama dari DataFrame\n",
    "    \n",
    "    # Tutup koneksi\n",
    "    connection.close()\n",
    "\n",
    "except Exception as e:\n",
    "    print(f\"Terjadi kesalahan: {e}\")"
   ]
  },
  {
   "cell_type": "code",
   "execution_count": null,
   "metadata": {},
   "outputs": [],
   "source": []
  }
 ],
 "metadata": {
  "kernelspec": {
   "display_name": "basangdata12",
   "language": "python",
   "name": "python3"
  },
  "language_info": {
   "codemirror_mode": {
    "name": "ipython",
    "version": 3
   },
   "file_extension": ".py",
   "mimetype": "text/x-python",
   "name": "python",
   "nbconvert_exporter": "python",
   "pygments_lexer": "ipython3",
   "version": "3.12.2"
  }
 },
 "nbformat": 4,
 "nbformat_minor": 2
}
